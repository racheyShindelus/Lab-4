{
 "cells": [
  {
   "cell_type": "markdown",
   "metadata": {},
   "source": [
    "# Mapping multi-input functions\n",
    "In one of your math classes you learned about the formula for a line:\n",
    "\n",
    "$$ y = mx + b $$\n",
    "\n",
    "where *m* is the slope and *b* is the y-intercept.\n",
    "\n",
    "Here is a plot of the line\n",
    "\n",
    "$$ y = 2x + 4 $$\n",
    "\n",
    "Execute the next cell to see the plot. (This cell invokes the website Desmos to display the graph within the notebook.)"
   ]
  },
  {
   "cell_type": "code",
   "execution_count": null,
   "metadata": {},
   "outputs": [],
   "source": [
    "%%html\n",
    "<iframe src=\"https://www.desmos.com/calculator/nwlmpz2ujs?embed\" width=\"300px\" height=\"300px\" style=\"border: 1px solid #ccc\" frameborder=0></iframe>"
   ]
  },
  {
   "cell_type": "markdown",
   "metadata": {},
   "source": [
    "We can write a function called `line1` that returns a *y* value for a given *x*."
   ]
  },
  {
   "cell_type": "code",
   "execution_count": null,
   "metadata": {},
   "outputs": [],
   "source": [
    "def line1(x):\n",
    "    return 2*x + 4"
   ]
  },
  {
   "cell_type": "markdown",
   "metadata": {},
   "source": [
    "Execute the next cells to find the *y* values for *x*=0, *x*=1, and *x*=-2"
   ]
  },
  {
   "cell_type": "code",
   "execution_count": null,
   "metadata": {},
   "outputs": [],
   "source": [
    "line1(0)"
   ]
  },
  {
   "cell_type": "code",
   "execution_count": null,
   "metadata": {},
   "outputs": [],
   "source": [
    "line1(1)"
   ]
  },
  {
   "cell_type": "code",
   "execution_count": null,
   "metadata": {},
   "outputs": [],
   "source": [
    "line1(-2)"
   ]
  },
  {
   "cell_type": "markdown",
   "metadata": {},
   "source": [
    "Let's use the `map` function to quickly pass several *x* values into the `line1` function. First, import the `csci26` library to give us the `map` function. Remember, we only need to do this step once per notebook."
   ]
  },
  {
   "cell_type": "code",
   "execution_count": null,
   "metadata": {},
   "outputs": [],
   "source": [
    "from csci26 import *"
   ]
  },
  {
   "cell_type": "code",
   "execution_count": null,
   "metadata": {},
   "outputs": [],
   "source": [
    "map(line1, range(-4, 5))"
   ]
  },
  {
   "cell_type": "markdown",
   "metadata": {},
   "source": [
    "Great! Now let's define a function called `line2` for a line whose slope is -1.5 and *y*-intercept is 2.\n",
    "\n",
    "(If you want to see what this line looks like, execute the next cell.)"
   ]
  },
  {
   "cell_type": "code",
   "execution_count": null,
   "metadata": {},
   "outputs": [],
   "source": [
    "%%html\n",
    "<iframe src=\"https://www.desmos.com/calculator/qgxi9jqftl?embed\" width=\"300px\" height=\"300px\" style=\"border: 1px solid #ccc\" frameborder=0></iframe>"
   ]
  },
  {
   "cell_type": "code",
   "execution_count": null,
   "metadata": {},
   "outputs": [],
   "source": [
    "# Definition of y = -1.5x + 2\n",
    "def line2(x):\n",
    "    return -1.5*x + 2"
   ]
  },
  {
   "cell_type": "markdown",
   "metadata": {},
   "source": [
    "Again, use `map` to give the *y* values for -5 &le; *x* &lt; 6."
   ]
  },
  {
   "cell_type": "code",
   "execution_count": null,
   "metadata": {},
   "outputs": [],
   "source": [
    "map(line2, range(-5, 6))"
   ]
  },
  {
   "cell_type": "markdown",
   "metadata": {},
   "source": [
    "## Problem 1\n",
    "Define a function called `line3` for the line\n",
    "\n",
    "$$ y = 3x - 1 $$\n",
    "\n",
    "Produce a list of the *y* values for -4 &le; x &lt; 8."
   ]
  },
  {
   "cell_type": "code",
   "execution_count": null,
   "metadata": {},
   "outputs": [],
   "source": [
    "# Write your function definition and map here.\n"
   ]
  },
  {
   "cell_type": "markdown",
   "metadata": {},
   "source": [
    "## A function that returns a list\n",
    "Now let's wrap all this up in a new function that:\n",
    "\n",
    "* Takes in a list of *x* values\n",
    "* Applies those values to the `line1` function\n",
    "* Returns the resulting list of *y* values\n",
    "\n",
    "This is actually really simple. Let's make a new function called `line1map`. All it does is take in a list of numbers, applies the `line1` function with `map`, then returns whatever is produced."
   ]
  },
  {
   "cell_type": "code",
   "execution_count": null,
   "metadata": {},
   "outputs": [],
   "source": [
    "def line1map(xList):\n",
    "    return map(line1, xList)"
   ]
  },
  {
   "cell_type": "markdown",
   "metadata": {},
   "source": [
    "Let's try it out!"
   ]
  },
  {
   "cell_type": "code",
   "execution_count": null,
   "metadata": {},
   "outputs": [],
   "source": [
    "line1map(range(-5, 6))"
   ]
  },
  {
   "cell_type": "markdown",
   "metadata": {},
   "source": [
    "Let's summarize what we've done so far.\n",
    "\n",
    "* Defined some functions that take in a single value and return a single value.\n",
    "* Used `map` to apply those functions to lists of values.\n",
    "* Defined another function that takes in a *list of values*, applies a function to it using `map`, then returns whatever was produced by `map`.\n",
    "\n",
    "By following these steps, we started with a simple function that maps a single value from a domain onto a single value in the corresponding co-domain.\n",
    "\n",
    "Then we used that function to map a lines of values from the domain onto a list of values in the co-domain.\n",
    "\n",
    "This is called *bottom-up* programming: start with small functions, then use them to build larger functions. In mathematics, this is called *function composition.*"
   ]
  },
  {
   "cell_type": "markdown",
   "metadata": {},
   "source": [
    "## Problem 2\n",
    "Write a function called `line3map` that takes a list of *x* values, applies the `line3` function you write in Problem 1, and returns the list of corresponding *y* values."
   ]
  },
  {
   "cell_type": "code",
   "execution_count": null,
   "metadata": {},
   "outputs": [],
   "source": [
    "# Write your function here\n"
   ]
  },
  {
   "cell_type": "code",
   "execution_count": null,
   "metadata": {},
   "outputs": [],
   "source": [
    "# Execute this cell to check your function\n",
    "assert line3map(range(0, 10)) == [-1, 2, 5, 8, 11, 14, 17, 20, 23, 26]\n",
    "assert line3map([3, 9, 1, -5]) == [8, 26, 2, -16]"
   ]
  },
  {
   "cell_type": "markdown",
   "metadata": {},
   "source": [
    "## A step back: identifiers, variables, and functions\n",
    "\n",
    "Let's take a moment to refine some concepts we've learned.\n",
    "\n",
    "An *expression* is a computation that evaluates to a value. For example, `3 * 5` is an expression whose value is the number 15; the expression `ord('G')` evaluates to 71; and `\"Sponge\" + \"Bob\"` evaluates to the string \"SpongeBob\".\n",
    "\n",
    "An *identifier* is a name for something. What we usually call a *variable* is really a binding of an identifier to a value. When you write an assignment statement such as `x = 5` you are binding the name `x` to the value 5. The fact than an equal sign is used in an assignment statement should give you the impression that the name `x` and the value 5 are essentially synonyms of each other: wherever you see the value 5 you could swap in the name `x` and yield the same result.\n",
    "\n",
    "For example, both of these expressions have the same value because `x` and 5 are equal to each other:\n",
    "\n",
    "    5 + 9\n",
    "    x + 9\n",
    "    \n",
    "I want to make this point clear: because `x` and 5 are equal to each other, anywhere in our program we see `x` we can replace it with 5 and there would be no change to the outcome of the program.\n",
    "\n",
    "A *function*, on the other hand, is a *block of executable statements* that have a name. In contrast to a variable which is a name associated with a value, a function is a name associated with some code. Like variables, however, the name and the code are synonyms of each other. Whenever the computer sees the name of a function, it replaces it with the corresponding block of code and executes it. Put another way: a function is a block of code with a name.\n",
    "\n",
    "Here's the takeaway: variables and functions are similar in that they both have names, except a variable evaluates to its value whereas a function evaluates to its block of code.\n",
    "\n",
    "## Lambda functions\n",
    "\n",
    "Many programming languages, including Java, Scheme, and Python, have the concept of a *lambda function*: a block of code without a name. It's sometimes called an \"anonymous function.\" Think of it as being just the body of a function.\n",
    "\n",
    "Lambda functions in Python have a further restriction: the body of the function must be short: no more than a single expression. It cannot contain multiple statements as a regular function can. Still, lambdas are useful in certain situations as we shall find out.\n",
    "\n",
    "Here is a lambda function that takes a parameter, `n` and yields a value that is half of `n`. (Executing it won't do much except show that the lambda function was created.)"
   ]
  },
  {
   "cell_type": "code",
   "execution_count": null,
   "metadata": {},
   "outputs": [],
   "source": [
    "lambda n : n / 2"
   ]
  },
  {
   "cell_type": "markdown",
   "metadata": {},
   "source": [
    "And here is one that takes an uppercase letter and converts it to lowercase by adding 32 to its ASCII value:"
   ]
  },
  {
   "cell_type": "code",
   "execution_count": null,
   "metadata": {},
   "outputs": [],
   "source": [
    "lambda c : chr(ord(c) + 32)"
   ]
  },
  {
   "cell_type": "markdown",
   "metadata": {},
   "source": [
    "Neither of these are terribly useful by themselves: they just create these anonymous function bodies and then throws them away, just like the standalone expression `10 * 3` doesn't do anything except evaluate to 30 and then throw the result away.\n",
    "\n",
    "However, we can bind a name to these lambdas, like this:"
   ]
  },
  {
   "cell_type": "code",
   "execution_count": null,
   "metadata": {},
   "outputs": [],
   "source": [
    "half = lambda n : n / 2\n",
    "\n",
    "lowcase = lambda c : chr(ord(c) + 32)"
   ]
  },
  {
   "cell_type": "markdown",
   "metadata": {},
   "source": [
    "What have we done here? We've taken these two anonymous function bodies and given them names! Now these are regular functions: they have names, take parameters as input, and return a value. We can invoke the functions as we normally would:"
   ]
  },
  {
   "cell_type": "code",
   "execution_count": null,
   "metadata": {},
   "outputs": [],
   "source": [
    "half(12)"
   ]
  },
  {
   "cell_type": "code",
   "execution_count": null,
   "metadata": {},
   "outputs": [],
   "source": [
    "lowcase('H')"
   ]
  },
  {
   "cell_type": "markdown",
   "metadata": {},
   "source": [
    "In Python, lambdas can be bound to names just like expressions and values can. That's a really powerful concept because it allows us to do one more thing: return lambdas from function. As we'll see, we can have a function that returns a new function."
   ]
  },
  {
   "cell_type": "markdown",
   "metadata": {},
   "source": [
    "## Functions with multiple inputs\n",
    "Having defined three functions to represent three different lines, all of which look similar except for the coefficients, you'd think that you could write a single, general-purpose `line` function that take three parameters: *m*, *x*, and *b*. And you'd be correct! Here you go:"
   ]
  },
  {
   "cell_type": "code",
   "execution_count": null,
   "metadata": {},
   "outputs": [],
   "source": [
    "# A function for all lines\n",
    "def line(m, x, b):\n",
    "    return m*x + b"
   ]
  },
  {
   "cell_type": "code",
   "execution_count": null,
   "metadata": {},
   "outputs": [],
   "source": [
    "# Try it for some inputs. This is y = 3x+4, with x=0\n",
    "line(3, 0, 4)"
   ]
  },
  {
   "cell_type": "code",
   "execution_count": null,
   "metadata": {},
   "outputs": [],
   "source": [
    "# y = -5x-3, with x=2\n",
    "line(-5, 2, 3)"
   ]
  },
  {
   "cell_type": "markdown",
   "metadata": {},
   "source": [
    "And now you want to map this function onto a range of *x* values. But it won't work since `map` requires that the mapping function accepts only one input, not three. Go ahead and try it, anyway. You'll get an error because `map` will pass in only one value where three was exepcted. (The error alludes to two missing paramters.)"
   ]
  },
  {
   "cell_type": "code",
   "execution_count": null,
   "metadata": {},
   "outputs": [],
   "source": [
    "# This will give an error\n",
    "map(line, range(0, 10))"
   ]
  },
  {
   "cell_type": "markdown",
   "metadata": {},
   "source": [
    "Although we want to use our general-purposes, do-everything `line` function, there's no direct way to get `map` to use it.\n",
    "\n",
    "However, there's a nifty workaround. We can hold *m* and *b* constant, allowing *x* to vary. Using the lambda concept, we'll create a new function whose parameter is *x*, with constant values for *m* and *b*. Here's a concrete example that uses *m*=2 and *b*=5:"
   ]
  },
  {
   "cell_type": "code",
   "execution_count": null,
   "metadata": {},
   "outputs": [],
   "source": [
    "line25 = lambda x : 2 * x + 5"
   ]
  },
  {
   "cell_type": "code",
   "execution_count": null,
   "metadata": {},
   "outputs": [],
   "source": [
    "line25(3)"
   ]
  },
  {
   "cell_type": "code",
   "execution_count": null,
   "metadata": {},
   "outputs": [],
   "source": [
    "line25(12)"
   ]
  },
  {
   "cell_type": "markdown",
   "metadata": {},
   "source": [
    "Here's one that uses *m*=3 and *b*=10:"
   ]
  },
  {
   "cell_type": "code",
   "execution_count": null,
   "metadata": {},
   "outputs": [],
   "source": [
    "line310 = lambda x : 3 * x + 10"
   ]
  },
  {
   "cell_type": "code",
   "execution_count": null,
   "metadata": {},
   "outputs": [],
   "source": [
    "line310(2)"
   ]
  },
  {
   "cell_type": "code",
   "execution_count": null,
   "metadata": {},
   "outputs": [],
   "source": [
    "line310(-4)"
   ]
  },
  {
   "cell_type": "markdown",
   "metadata": {},
   "source": [
    "Let's generalize this into a function that takes the *m* and *b* values as parameters and returns a lambda function with the *m* and *b* values plugged in. We'll call this `linePartial` because it's a *partial application* of the line function in which only some (not all) of the parameters have been supplied:"
   ]
  },
  {
   "cell_type": "code",
   "execution_count": null,
   "metadata": {},
   "outputs": [],
   "source": [
    "def linePartial(m, b):\n",
    "    return lambda x : m * x + b"
   ]
  },
  {
   "cell_type": "markdown",
   "metadata": {},
   "source": [
    "Now we can create line-computing functions to our heart's content:"
   ]
  },
  {
   "cell_type": "code",
   "execution_count": null,
   "metadata": {},
   "outputs": [],
   "source": [
    "line36 = linePartial(3, 6)\n",
    "\n",
    "line59 = linePartial(5, 9)"
   ]
  },
  {
   "cell_type": "markdown",
   "metadata": {},
   "source": [
    "...And then use them to compute the *y* values for various *x* coordinates:"
   ]
  },
  {
   "cell_type": "code",
   "execution_count": null,
   "metadata": {},
   "outputs": [],
   "source": [
    "line36(14)"
   ]
  },
  {
   "cell_type": "code",
   "execution_count": null,
   "metadata": {},
   "outputs": [],
   "source": [
    "line59(-4)"
   ]
  },
  {
   "cell_type": "markdown",
   "metadata": {},
   "source": [
    "Finally, we can do what we *really* wanted to do in the first place: use `map` to compute a list of *y* values from a list of *x* values for certain values of the slope and y-intercept. This function takes in values for *slope* and *yIntercept*, and a list of *x* values, returning the corresponding list of *y* values:"
   ]
  },
  {
   "cell_type": "code",
   "execution_count": null,
   "metadata": {},
   "outputs": [],
   "source": [
    "def plotLine(slope, yIntercept, xList):\n",
    "    return map(linePartial(slope, yIntercept), xList)"
   ]
  },
  {
   "cell_type": "code",
   "execution_count": null,
   "metadata": {},
   "outputs": [],
   "source": [
    "# Produce the list of y values for slope=3, yIntercept=4, and x ranges from -4 to 5.\n",
    "plotLine(3, 4, range(-4, 6))"
   ]
  },
  {
   "cell_type": "markdown",
   "metadata": {},
   "source": [
    "Let's peel back what we have here.\n",
    "\n",
    "The function `plotLine` takes the three inputs we mentioned: *slope*, *yIntercept*, and a list of *x* values.\n",
    "\n",
    "In turn, it calls `linePartial`, passing the values of *slope* and *yIntercept* into it. The `linePartial` function returns a new function that takes one parameter, `x`, and holds *m* and *b* constant.\n",
    "\n",
    "Finally, `plotLine` invokes `map`, giving it the one-parameter lambda function and the list of *x* values. Since the lambda functoin is one that accepts only one input and returns one output, it's compatible with `map` and it works as expected."
   ]
  },
  {
   "cell_type": "markdown",
   "metadata": {},
   "source": [
    "## Problem 3\n",
    "Now you try it! Here is the formula for a parabola.\n",
    "\n",
    "$$ y = ax^2 + bx + c $$\n",
    "\n",
    "where *a*, *b*, and *c* are coefficients that define the shape direction of the parabola. These coefficients are sometimes called, more verbosely, the *speed*, *symmetry* and *y-intercept* of the parabola.\n",
    "\n",
    "Define a function called `plotParabola` that has four parameters: *speed*, *symmetry*, *yIntercept*, and a list of *x* values. It returns the list of corresponding *y* values.\n",
    "\n",
    "Use the lambda technique as described above. You'll need two functions: `plotParabola` and `parabolaPartial`."
   ]
  },
  {
   "cell_type": "code",
   "execution_count": null,
   "metadata": {},
   "outputs": [],
   "source": [
    "# Define your functions here\n"
   ]
  },
  {
   "cell_type": "code",
   "execution_count": null,
   "metadata": {},
   "outputs": [],
   "source": [
    "# Execute this cell to check your function\n",
    "assert plotParabola(2, 4, 1, range(-5, 5)) == [31, 17, 7, 1, -1, 1, 7, 17, 31, 49]\n",
    "assert plotParabola(0, 5, -9, range(0, 10)) == [-9, -4, 1, 6, 11, 16, 21, 26, 31, 36]"
   ]
  }
 ],
 "metadata": {
  "kernelspec": {
   "display_name": "Python 3 (ipykernel)",
   "language": "python",
   "name": "python3"
  },
  "language_info": {
   "codemirror_mode": {
    "name": "ipython",
    "version": 3
   },
   "file_extension": ".py",
   "mimetype": "text/x-python",
   "name": "python",
   "nbconvert_exporter": "python",
   "pygments_lexer": "ipython3",
   "version": "3.9.7"
  }
 },
 "nbformat": 4,
 "nbformat_minor": 4
}
