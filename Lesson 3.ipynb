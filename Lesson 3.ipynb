{
 "cells": [
  {
   "cell_type": "markdown",
   "metadata": {},
   "source": [
    "# Review: Functions\n",
    "A function in Python is similar to a method in Java: it has some inputs, does a computation, and produces an output. Last week we started learning about functions. Our definition of a function comes from a mathematical perspective: it's a computation that transforms one set of values (the *domain*) into another set (the *co-domain*). Such functions tend to be very simple: they take one single input (a value in the domain) and produce a single output (a value in the co-domain).\n",
    "\n",
    "Although in general functions (a.k.a. methods) can be quite lengthy, we desire to write short, concise functions that do a small amount of work. This will facilitate testing them. Once we are confident our functions are working, we can combine them (by having functions call other functions) to produce larger programs.\n",
    "\n",
    "## Defining functions\n",
    "A function definition starts with the keyword `def` and is followed by the name of the function and any inputs it may take. A colon and indentation is used to delimit the body of the function.\n",
    "\n",
    "As in Java/C, the keyword `return` is used to cause the function to return a value back to the caller. With few exceptions, all of the function we will write return a value.\n",
    "\n",
    "## Input parameters and variables\n",
    "\n",
    "As with variables, there is no need to declare the types of input parameters. Just list their names inside parentheses. The input parameters become variables that are local to the function; they disappear once the function is finished.\n",
    "\n",
    "Any other variables you define and use in the function are also local to the function.\n",
    "\n",
    "## Returning values\n",
    "\n",
    "A function can return any value that you can construct. This includes numbers, strings, arrays, tuples, etc. Functions can even return other functions; although this is a feature we won't need at this time."
   ]
  },
  {
   "cell_type": "markdown",
   "metadata": {},
   "source": [
    "## Example: cube\n",
    "This function cubes its input by raising it to the third power. Execute the four cells below to see it work."
   ]
  },
  {
   "cell_type": "code",
   "execution_count": null,
   "metadata": {},
   "outputs": [],
   "source": [
    "# cube: given a number, return its cube\n",
    "def cube(n):\n",
    "    return n ** 3"
   ]
  },
  {
   "cell_type": "code",
   "execution_count": null,
   "metadata": {},
   "outputs": [],
   "source": [
    "cube(4)"
   ]
  },
  {
   "cell_type": "code",
   "execution_count": null,
   "metadata": {},
   "outputs": [],
   "source": [
    "cube(10)"
   ]
  },
  {
   "cell_type": "code",
   "execution_count": null,
   "metadata": {},
   "outputs": [],
   "source": [
    "side = 7\n",
    "cube(side)"
   ]
  },
  {
   "cell_type": "markdown",
   "metadata": {},
   "source": [
    "## Problem 1\n",
    "Write a function called `tenx` that mutiplies its input by 10."
   ]
  },
  {
   "cell_type": "code",
   "execution_count": null,
   "metadata": {},
   "outputs": [],
   "source": [
    "# Write your function here\n"
   ]
  },
  {
   "cell_type": "code",
   "execution_count": null,
   "metadata": {},
   "outputs": [],
   "source": [
    "# Try it out\n",
    "tenx(5)"
   ]
  },
  {
   "cell_type": "code",
   "execution_count": null,
   "metadata": {},
   "outputs": [],
   "source": [
    "tenx(20)"
   ]
  },
  {
   "cell_type": "code",
   "execution_count": null,
   "metadata": {},
   "outputs": [],
   "source": [
    "# Execute this cell to verify your function is working. If you get no errors, it works!\n",
    "assert tenx(1) == 10\n",
    "assert tenx(0) == 0\n",
    "assert tenx(-5) == -50\n",
    "assert tenx(1.5) == 15"
   ]
  },
  {
   "cell_type": "markdown",
   "metadata": {},
   "source": [
    "# Review: Unicode functions\n",
    "Python has two built-in functions for working with ASCII and Unicode characters.\n",
    "\n",
    "### ord(c)\n",
    "Given a character (in reality, a one-character string), return its Unicode value.\n",
    "\n",
    "### chr(u)\n",
    "Given a Unicode value, return the corresponding character."
   ]
  },
  {
   "cell_type": "code",
   "execution_count": null,
   "metadata": {},
   "outputs": [],
   "source": [
    "ord('A')"
   ]
  },
  {
   "cell_type": "code",
   "execution_count": null,
   "metadata": {},
   "outputs": [],
   "source": [
    "ord('9')"
   ]
  },
  {
   "cell_type": "code",
   "execution_count": null,
   "metadata": {},
   "outputs": [],
   "source": [
    "ord('a')"
   ]
  },
  {
   "cell_type": "code",
   "execution_count": null,
   "metadata": {},
   "outputs": [],
   "source": [
    "chr(98)"
   ]
  },
  {
   "cell_type": "code",
   "execution_count": null,
   "metadata": {},
   "outputs": [],
   "source": [
    "chr(36)"
   ]
  },
  {
   "cell_type": "markdown",
   "metadata": {},
   "source": [
    "## Problem 2\n",
    "In the ASCII character set (a subset of the Unicode characters), the value for 'A' is 65 and the value for 'a' is 97. The ASCII values for the lowercase letters differ from the corresponding uppercase letters by 32.\n",
    "\n",
    "Write a function called `upcase` that converts a lowercase letter to an uppercase letter. Do this using an ASCII value computation. For example, to convert the lowercase letter 'c' to uppercase 'C', do these computations:\n",
    "\n",
    "* Get the ASCII value of 'c' using the `ord` function. Its value is 99.\n",
    "* Subtract 32, yielding 67.\n",
    "* Convert back to ASCII using `chr`, giving 'C'.\n",
    "\n",
    "The *domain* of this function is the set of lowercase letters; the *co-domain* is the set of uppercase letters. Don't worry about handling characters outside the domain. If your function is given a non-letter, its behavior is *undefined*, which means the output can be non-sensical."
   ]
  },
  {
   "cell_type": "code",
   "execution_count": null,
   "metadata": {},
   "outputs": [],
   "source": [
    "# Write your function here\n"
   ]
  },
  {
   "cell_type": "code",
   "execution_count": null,
   "metadata": {},
   "outputs": [],
   "source": [
    "# Try it\n",
    "upcase('a')"
   ]
  },
  {
   "cell_type": "code",
   "execution_count": null,
   "metadata": {},
   "outputs": [],
   "source": [
    "upcase('r')"
   ]
  },
  {
   "cell_type": "code",
   "execution_count": null,
   "metadata": {},
   "outputs": [],
   "source": [
    "# Execute this cell to check your function.\n",
    "assert upcase('a') == 'A'\n",
    "assert upcase('z') == 'Z'\n",
    "assert upcase('j') == 'J'"
   ]
  },
  {
   "cell_type": "markdown",
   "metadata": {},
   "source": [
    "# Applying a function to a list or string\n",
    "At this point we can write functions that transform a single input value from the domain into a single output value in the co-domain. Now we want to take it to the next level: transforming a list or string into another list or string.\n",
    "\n",
    "Python has a built-in function called `map`. The declaration for map is:\n",
    "\n",
    "<p style=\"text-align: center; font-size: 150%; color: purple\">map(<i>f</i>, <i>iterable</i>)</p>\n",
    "\n",
    "The function takes two parameters: \n",
    "\n",
    "* A function, *f*, that transforms an input value into an output value.\n",
    "* A collection, called an *iterable*, such as a list, set, string, or byte string.\n",
    "\n",
    "The `map` function returns a new collection with each element of the *iterable* transformed using the function *f*. It's a quick and easy way to transform a list or string by applying the same function to each element or character.\n",
    "\n",
    "Before we see some examples, we need to do a tiny bit of housekeeping. As I wrote just above, Python comes with a built-in function called `map`. However, I have written a version of `map` that is easier to use than the built-in one. To make use of it, we will need to import the `csci26` library that contains this new version.\n",
    "\n",
    "**Execute the cell below.** You only need to do this once per notebook."
   ]
  },
  {
   "cell_type": "code",
   "execution_count": null,
   "metadata": {},
   "outputs": [],
   "source": [
    "# Execute this to import the csci26 library\n",
    "from csci26 import *"
   ]
  },
  {
   "cell_type": "markdown",
   "metadata": {},
   "source": [
    "## Example: Transform string into Unicode values\n",
    "The Python code below will transform each character in the string \"Discrete!\" into its corresponding Unicode (or ASCII in this case) values by applying the `ord` function to each character.\n",
    "\n",
    "*Note: if you get an error, make sure you have execute the cell above this one to import the csci26 library of functions.*"
   ]
  },
  {
   "cell_type": "code",
   "execution_count": null,
   "metadata": {},
   "outputs": [],
   "source": [
    "map(ord, 'Discrete!')"
   ]
  },
  {
   "cell_type": "code",
   "execution_count": null,
   "metadata": {},
   "outputs": [],
   "source": [
    "# Please try some more strings\n"
   ]
  },
  {
   "cell_type": "markdown",
   "metadata": {},
   "source": [
    "## Problem 3: Convert a string to uppercase letters\n",
    "Assuming you have the `upcase` function working from Problem 2, convert the string `'snickers'` to uppercase letters. Apply the `upcase` function to each letter in the string."
   ]
  },
  {
   "cell_type": "code",
   "execution_count": null,
   "metadata": {},
   "outputs": [],
   "source": [
    "# Write your solution here\n"
   ]
  },
  {
   "cell_type": "markdown",
   "metadata": {},
   "source": [
    "## Example: cube every number in a list\n",
    "The next example will apply the `cube` function to every number in the list `[2, 0, -4, 3]`.\n",
    "\n",
    "If you get an error, make sure you have execute the cell near the top of this notebook that defines the `cube` function."
   ]
  },
  {
   "cell_type": "code",
   "execution_count": null,
   "metadata": {},
   "outputs": [],
   "source": [
    "map(cube, [2, 0, -4, 3])"
   ]
  },
  {
   "cell_type": "markdown",
   "metadata": {},
   "source": [
    "Some more examples...\n",
    "\n",
    "Cube every number in the list `[0, 1, 2, ..., 9]`"
   ]
  },
  {
   "cell_type": "code",
   "execution_count": null,
   "metadata": {},
   "outputs": [],
   "source": [
    "mylist = range(0, 10)\n",
    "map(cube, mylist)"
   ]
  },
  {
   "cell_type": "markdown",
   "metadata": {},
   "source": [
    "The same, but without the intermediate `mylist` variable."
   ]
  },
  {
   "cell_type": "code",
   "execution_count": null,
   "metadata": {},
   "outputs": [],
   "source": [
    "map(cube, range(0, 10))"
   ]
  },
  {
   "cell_type": "markdown",
   "metadata": {},
   "source": [
    "## Problem 4: multiples of 10\n",
    "Produce the list `[0, 10, 20, 30, ..., 190, 200]`. Do this with your `tenx` function that you wrote in Problem 1. Apply it to a suitable `range`.\n",
    "\n",
    "Make sure your list starts with 0 and ends with 200."
   ]
  },
  {
   "cell_type": "code",
   "execution_count": null,
   "metadata": {},
   "outputs": [],
   "source": [
    "# Write your solution here\n"
   ]
  },
  {
   "cell_type": "markdown",
   "metadata": {},
   "source": [
    "# Wrap-up\n",
    "You now know the basics of using the `map` function. We will be using `map` a lot in the coming weeks, so it's an important concept to know. As we start exploring cryptography, you will use `map` to encrypt a string by applying an encryption function to each character."
   ]
  }
 ],
 "metadata": {
  "kernelspec": {
   "display_name": "Python 3 (ipykernel)",
   "language": "python",
   "name": "python3"
  },
  "language_info": {
   "codemirror_mode": {
    "name": "ipython",
    "version": 3
   },
   "file_extension": ".py",
   "mimetype": "text/x-python",
   "name": "python",
   "nbconvert_exporter": "python",
   "pygments_lexer": "ipython3",
   "version": "3.9.7"
  }
 },
 "nbformat": 4,
 "nbformat_minor": 4
}
