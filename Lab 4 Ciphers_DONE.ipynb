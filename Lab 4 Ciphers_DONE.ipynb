{
 "cells": [
  {
   "cell_type": "markdown",
   "metadata": {},
   "source": [
    "# Housekeeping\n",
    "Before starting on this assignment, import the csci26 library. Execute the cell below."
   ]
  },
  {
   "cell_type": "code",
   "execution_count": 1,
   "metadata": {},
   "outputs": [],
   "source": [
    "from csci26 import *"
   ]
  },
  {
   "cell_type": "markdown",
   "metadata": {},
   "source": [
    "# Strings and byte strings\n",
    "A string in python is a sequence of characters. A character is actually a Unicode character, whose integer values can range from 0 to 130,000 or so. We've seen some Unicode values in Lesson 1. For instance, the Unicode value for the 🚗 emoji is 128663. Long story short: a Unicode character isn't a single byte, nor even two bytes. A Unicode character needs a variable number of bytes (anywhere from one to four) to store its value.\n",
    "\n",
    "A *byte string* is similar to a regular string, but each character is exactly one byte whose value ranges from 0 to 255.\n",
    "\n",
    "Here are some examples of byte strings. They are represented using the `b` prefix and quotation marks."
   ]
  },
  {
   "cell_type": "code",
   "execution_count": 2,
   "metadata": {},
   "outputs": [
    {
     "data": {
      "text/plain": [
       "b'Hello'"
      ]
     },
     "execution_count": 2,
     "metadata": {},
     "output_type": "execute_result"
    }
   ],
   "source": [
    "b'Hello'"
   ]
  },
  {
   "cell_type": "code",
   "execution_count": 3,
   "metadata": {},
   "outputs": [
    {
     "data": {
      "text/plain": [
       "b'CSCI 26'"
      ]
     },
     "execution_count": 3,
     "metadata": {},
     "output_type": "execute_result"
    }
   ],
   "source": [
    "b\"CSCI 26\""
   ]
  },
  {
   "cell_type": "markdown",
   "metadata": {},
   "source": [
    "Internally, a byte string is stored as an array of integers, where each integer is in the range 0-255. But they get *displayed* as ASCII characters.\n",
    "\n",
    "This is an important distiction:\n",
    "\n",
    "* Regular strings are arrays of characters\n",
    "* Byte strings are arrays of numbers\n",
    "\n",
    "For example, the byte string `b'Hello'` is actually the array `[72, 101, 108, 108, 111]`. This gives us a really concise, compact way of representing arrays whose individual elements are just bytes.\n",
    "\n",
    "For characters that have no printable ASCII equivalent (such as control characters like CTRL-V), the value is displayed in hex with `\\x` prepended. For example, the array `[23, 72, 200, 12]` can be displayed as the byte string `b'\\x17H\\xc8\\x0c'`. The \"H\" in there is the real character `H`; the rest of them are displayed in hexadecimal (17, c8, and 0c). This allows any byte string to be completely represented by printable characters; nothing is hidden or unintelligible. We'll need this feature when we encrypt strings because often the encrypted ciphertext contains otherwise unprintable characters.\n",
    "\n",
    "# Shift Cipher\n",
    "For the shift cipher we will use the entire range of bytes (256 values), so **the modulus will be 256.**\n",
    "\n",
    "Recall that the formula for computing the ciphertext is:\n",
    "\n",
    "*c* = (*p* + *k*) mod *n*, where *n* = 256\n",
    "\n",
    "We will start by defining a function called `shift` that takes a single plaintext byte value (*p*) and a shift amount (*k*). It returns the ciphertext value, calculated using the formula. It's a very simple function, but it allows us to verify that the formula is working.\n",
    "\n",
    "Run the cell below to define the function."
   ]
  },
  {
   "cell_type": "code",
   "execution_count": 4,
   "metadata": {},
   "outputs": [],
   "source": [
    "def shift(p, k):\n",
    "    return (p + k) % 256"
   ]
  },
  {
   "cell_type": "markdown",
   "metadata": {},
   "source": [
    "Try out some examples."
   ]
  },
  {
   "cell_type": "code",
   "execution_count": 5,
   "metadata": {},
   "outputs": [
    {
     "data": {
      "text/plain": [
       "70"
      ]
     },
     "execution_count": 5,
     "metadata": {},
     "output_type": "execute_result"
    }
   ],
   "source": [
    "shift(65, 5)\n",
    "\n",
    "# Should return 70"
   ]
  },
  {
   "cell_type": "code",
   "execution_count": 6,
   "metadata": {},
   "outputs": [
    {
     "data": {
      "text/plain": [
       "36"
      ]
     },
     "execution_count": 6,
     "metadata": {},
     "output_type": "execute_result"
    }
   ],
   "source": [
    "shift(234, 58)\n",
    "\n",
    "# Should return 36"
   ]
  },
  {
   "cell_type": "markdown",
   "metadata": {},
   "source": [
    "Next we'll write a function called `shiftCipher` that takes the shift amount (*offset*) and a byte string (*plaintext*). It returns the encrypted byte string.\n",
    "\n",
    "To write this function, we will use the lambda technique shown in Lesson 4."
   ]
  },
  {
   "cell_type": "code",
   "execution_count": 7,
   "metadata": {},
   "outputs": [],
   "source": [
    "def shiftPartial(k):\n",
    "    return lambda p : (p + k) % 256\n",
    "\n",
    "def shiftCipher(offset, plaintext):\n",
    "    return map(shiftPartial(offset), plaintext)"
   ]
  },
  {
   "cell_type": "markdown",
   "metadata": {},
   "source": [
    "### Try the shift cipher\n",
    "The cells below apply the shift cipher to some plaintext byte strings."
   ]
  },
  {
   "cell_type": "code",
   "execution_count": 8,
   "metadata": {},
   "outputs": [
    {
     "data": {
      "text/plain": [
       "b'Mjqqt'"
      ]
     },
     "execution_count": 8,
     "metadata": {},
     "output_type": "execute_result"
    }
   ],
   "source": [
    "shiftCipher(5, b'Hello')\n",
    "\n",
    "# Returns b'Mjqqt'"
   ]
  },
  {
   "cell_type": "code",
   "execution_count": 9,
   "metadata": {},
   "outputs": [
    {
     "data": {
      "text/plain": [
       "b'\\x14,4\\xde'"
      ]
     },
     "execution_count": 9,
     "metadata": {},
     "output_type": "execute_result"
    }
   ],
   "source": [
    "shiftCipher(189, b'Wow!')\n",
    "\n",
    "# Returns b'\\x14,4\\xde'"
   ]
  },
  {
   "cell_type": "markdown",
   "metadata": {},
   "source": [
    "# Linear cipher\n",
    "Now that you've seen how to write a shift cipher in Python, try your hand at writing a linear cipher. Recall that the formula is:\n",
    "\n",
    "*c* = (*p* \\* *m* + *k*) mod *n*, where *n* = 256\n",
    "\n",
    "To complete this assignment, you will need to write two functions."
   ]
  },
  {
   "cell_type": "markdown",
   "metadata": {},
   "source": [
    "## Function: linear\n",
    "Define a function called `linear` that takes three inputs: a plaintext number (*p*), a multiplier (*m*), and an offset (*k*). It returns the single number generated by the linear cipher formula.\n",
    "\n",
    "This function will be similar to the `shift` function defined previously."
   ]
  },
  {
   "cell_type": "code",
   "execution_count": 12,
   "metadata": {},
   "outputs": [],
   "source": [
    "# Define your function here. Replace None with the computation\n",
    "def linear(p, m, k):\n",
    "    return (p * m) + k\n"
   ]
  },
  {
   "cell_type": "code",
   "execution_count": 14,
   "metadata": {},
   "outputs": [],
   "source": [
    "# Execute this cell to check your function\n",
    "assert linear(100, 5, 10) == 510\n",
    "assert linear(10, 5, 20) == 70\n",
    "assert linear(123, 1, 0) == 123"
   ]
  },
  {
   "cell_type": "markdown",
   "metadata": {},
   "source": [
    "## Function: linearcipher\n",
    "Define a function called `linearCipher` that takes three inputs: a *multipler*, an *offset*, and a plaintext byte string (*plaintext*). It returns the ciphertext byte string.\n",
    "\n",
    "This function is similar to the `shiftCipher` function written above. Use the lambda technique to also write a helper function called `linearPartial`."
   ]
  },
  {
   "cell_type": "code",
   "execution_count": 20,
   "metadata": {},
   "outputs": [],
   "source": [
    "# Write your functions here. They have been started for you.\n",
    "linearPartial = lambda m, k, byte: (byte * m + k) % 256\n",
    "\n",
    "def linearCipher(multiplier, offset, plaintext):\n",
    "    ciphertext_bytes = [linearPartial(multiplier, offset, byte) for byte in plaintext]\n",
    "    ciphertext = bytes(ciphertext_bytes)  \n",
    "    return ciphertext\n"
   ]
  },
  {
   "cell_type": "code",
   "execution_count": 21,
   "metadata": {},
   "outputs": [],
   "source": [
    "# This cell checks your linearcipher function\n",
    "assert linearCipher(129, 45, b'Discrete') == b'q\\x16 \\x10\\x9f\\x12\\xa1\\x12'\n",
    "assert linearCipher(231, 56, b'Congrats!') == b'\\xadaz)\\x16\\xbf\\xe4\\xfd\\xff'\n",
    "assert linearCipher(79, 23, b'Boots & Cats') == b'uXX\\xe3\\x94\\xf7\\xd1\\xf7\\xc4\\x06\\xe3\\x94'"
   ]
  },
  {
   "cell_type": "code",
   "execution_count": 22,
   "metadata": {},
   "outputs": [
    {
     "data": {
      "text/plain": [
       "b'\\xeb\\xff\\xb6\\x8e\\xf5\\xd7\\xa2\\xc3\\xd7'"
      ]
     },
     "execution_count": 22,
     "metadata": {},
     "output_type": "execute_result"
    }
   ],
   "source": [
    "# Try it out yourself! Replace the strings and numbers with different values.\n",
    "linearCipher(123, 123, b'PLAINTEXT')"
   ]
  }
 ],
 "metadata": {
  "kernelspec": {
   "display_name": "Python 3 (ipykernel)",
   "language": "python",
   "name": "python3"
  },
  "language_info": {
   "codemirror_mode": {
    "name": "ipython",
    "version": 3
   },
   "file_extension": ".py",
   "mimetype": "text/x-python",
   "name": "python",
   "nbconvert_exporter": "python",
   "pygments_lexer": "ipython3",
   "version": "3.9.7"
  }
 },
 "nbformat": 4,
 "nbformat_minor": 4
}
